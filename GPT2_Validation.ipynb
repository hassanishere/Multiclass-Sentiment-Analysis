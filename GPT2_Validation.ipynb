{
  "cells": [
    {
      "cell_type": "code",
      "execution_count": null,
      "id": "b75366d5-0c22-422c-bf12-79c9fc303bca",
      "metadata": {
        "tags": [],
        "id": "b75366d5-0c22-422c-bf12-79c9fc303bca",
        "outputId": "94ced1cd-878d-4b90-8483-9ebb421d0394"
      },
      "outputs": [
        {
          "name": "stdout",
          "output_type": "stream",
          "text": [
            "Collecting datasets\n",
            "  Obtaining dependency information for datasets from https://files.pythonhosted.org/packages/95/fc/661a7f06e8b7d48fcbd3f55423b7ff1ac3ce59526f146fda87a1e1788ee4/datasets-2.18.0-py3-none-any.whl.metadata\n",
            "  Using cached datasets-2.18.0-py3-none-any.whl.metadata (20 kB)\n",
            "Requirement already satisfied: filelock in /opt/conda/envs/sagemaker-distribution/lib/python3.8/site-packages (from datasets) (3.12.2)\n",
            "Requirement already satisfied: numpy>=1.17 in /opt/conda/envs/sagemaker-distribution/lib/python3.8/site-packages (from datasets) (1.24.4)\n",
            "Collecting pyarrow>=12.0.0 (from datasets)\n",
            "  Obtaining dependency information for pyarrow>=12.0.0 from https://files.pythonhosted.org/packages/fd/12/e8f27c60e75ddb562b0258db472f3e49253eca2f169fb2665738035566dd/pyarrow-15.0.2-cp38-cp38-manylinux_2_28_x86_64.whl.metadata\n",
            "  Using cached pyarrow-15.0.2-cp38-cp38-manylinux_2_28_x86_64.whl.metadata (3.0 kB)\n",
            "Collecting pyarrow-hotfix (from datasets)\n",
            "  Obtaining dependency information for pyarrow-hotfix from https://files.pythonhosted.org/packages/e4/f4/9ec2222f5f5f8ea04f66f184caafd991a39c8782e31f5b0266f101cb68ca/pyarrow_hotfix-0.6-py3-none-any.whl.metadata\n",
            "  Using cached pyarrow_hotfix-0.6-py3-none-any.whl.metadata (3.6 kB)\n",
            "Requirement already satisfied: dill<0.3.9,>=0.3.0 in /opt/conda/envs/sagemaker-distribution/lib/python3.8/site-packages (from datasets) (0.3.7)\n",
            "Requirement already satisfied: pandas in /opt/conda/envs/sagemaker-distribution/lib/python3.8/site-packages (from datasets) (2.0.3)\n",
            "Requirement already satisfied: requests>=2.19.0 in /opt/conda/envs/sagemaker-distribution/lib/python3.8/site-packages (from datasets) (2.31.0)\n",
            "Requirement already satisfied: tqdm>=4.62.1 in /opt/conda/envs/sagemaker-distribution/lib/python3.8/site-packages (from datasets) (4.65.0)\n",
            "Collecting xxhash (from datasets)\n",
            "  Obtaining dependency information for xxhash from https://files.pythonhosted.org/packages/ad/80/8fc9a4d76b259c901f2c85ed10f330a8fb51993a577bddfd53a852595e12/xxhash-3.4.1-cp38-cp38-manylinux_2_17_x86_64.manylinux2014_x86_64.whl.metadata\n",
            "  Using cached xxhash-3.4.1-cp38-cp38-manylinux_2_17_x86_64.manylinux2014_x86_64.whl.metadata (12 kB)\n",
            "Requirement already satisfied: multiprocess in /opt/conda/envs/sagemaker-distribution/lib/python3.8/site-packages (from datasets) (0.70.15)\n",
            "Collecting fsspec[http]<=2024.2.0,>=2023.1.0 (from datasets)\n",
            "  Obtaining dependency information for fsspec[http]<=2024.2.0,>=2023.1.0 from https://files.pythonhosted.org/packages/ad/30/2281c062222dc39328843bd1ddd30ff3005ef8e30b2fd09c4d2792766061/fsspec-2024.2.0-py3-none-any.whl.metadata\n",
            "  Using cached fsspec-2024.2.0-py3-none-any.whl.metadata (6.8 kB)\n",
            "Requirement already satisfied: aiohttp in /opt/conda/envs/sagemaker-distribution/lib/python3.8/site-packages (from datasets) (3.8.5)\n",
            "Collecting huggingface-hub>=0.19.4 (from datasets)\n",
            "  Obtaining dependency information for huggingface-hub>=0.19.4 from https://files.pythonhosted.org/packages/05/c0/779afbad8e75565c09ffa24a88b5dd7e293c92b74eb09df6435fc58ac986/huggingface_hub-0.22.2-py3-none-any.whl.metadata\n",
            "  Using cached huggingface_hub-0.22.2-py3-none-any.whl.metadata (12 kB)\n",
            "Requirement already satisfied: packaging in /opt/conda/envs/sagemaker-distribution/lib/python3.8/site-packages (from datasets) (23.1)\n",
            "Requirement already satisfied: pyyaml>=5.1 in /opt/conda/envs/sagemaker-distribution/lib/python3.8/site-packages (from datasets) (6.0)\n",
            "Requirement already satisfied: attrs>=17.3.0 in /opt/conda/envs/sagemaker-distribution/lib/python3.8/site-packages (from aiohttp->datasets) (23.1.0)\n",
            "Requirement already satisfied: charset-normalizer<4.0,>=2.0 in /opt/conda/envs/sagemaker-distribution/lib/python3.8/site-packages (from aiohttp->datasets) (3.2.0)\n",
            "Requirement already satisfied: multidict<7.0,>=4.5 in /opt/conda/envs/sagemaker-distribution/lib/python3.8/site-packages (from aiohttp->datasets) (6.0.4)\n",
            "Requirement already satisfied: async-timeout<5.0,>=4.0.0a3 in /opt/conda/envs/sagemaker-distribution/lib/python3.8/site-packages (from aiohttp->datasets) (4.0.2)\n",
            "Requirement already satisfied: yarl<2.0,>=1.0 in /opt/conda/envs/sagemaker-distribution/lib/python3.8/site-packages (from aiohttp->datasets) (1.9.2)\n",
            "Requirement already satisfied: frozenlist>=1.1.1 in /opt/conda/envs/sagemaker-distribution/lib/python3.8/site-packages (from aiohttp->datasets) (1.4.0)\n",
            "Requirement already satisfied: aiosignal>=1.1.2 in /opt/conda/envs/sagemaker-distribution/lib/python3.8/site-packages (from aiohttp->datasets) (1.3.1)\n",
            "Requirement already satisfied: typing-extensions>=3.7.4.3 in /opt/conda/envs/sagemaker-distribution/lib/python3.8/site-packages (from huggingface-hub>=0.19.4->datasets) (4.5.0)\n",
            "Requirement already satisfied: idna<4,>=2.5 in /opt/conda/envs/sagemaker-distribution/lib/python3.8/site-packages (from requests>=2.19.0->datasets) (3.4)\n",
            "Requirement already satisfied: urllib3<3,>=1.21.1 in /opt/conda/envs/sagemaker-distribution/lib/python3.8/site-packages (from requests>=2.19.0->datasets) (1.26.15)\n",
            "Requirement already satisfied: certifi>=2017.4.17 in /opt/conda/envs/sagemaker-distribution/lib/python3.8/site-packages (from requests>=2.19.0->datasets) (2023.7.22)\n",
            "Requirement already satisfied: python-dateutil>=2.8.2 in /opt/conda/envs/sagemaker-distribution/lib/python3.8/site-packages (from pandas->datasets) (2.8.2)\n",
            "Requirement already satisfied: pytz>=2020.1 in /opt/conda/envs/sagemaker-distribution/lib/python3.8/site-packages (from pandas->datasets) (2023.3)\n",
            "Requirement already satisfied: tzdata>=2022.1 in /opt/conda/envs/sagemaker-distribution/lib/python3.8/site-packages (from pandas->datasets) (2023.3)\n",
            "Requirement already satisfied: six>=1.5 in /opt/conda/envs/sagemaker-distribution/lib/python3.8/site-packages (from python-dateutil>=2.8.2->pandas->datasets) (1.16.0)\n",
            "Using cached datasets-2.18.0-py3-none-any.whl (510 kB)\n",
            "Using cached huggingface_hub-0.22.2-py3-none-any.whl (388 kB)\n",
            "Using cached pyarrow-15.0.2-cp38-cp38-manylinux_2_28_x86_64.whl (38.4 MB)\n",
            "Using cached pyarrow_hotfix-0.6-py3-none-any.whl (7.9 kB)\n",
            "Using cached xxhash-3.4.1-cp38-cp38-manylinux_2_17_x86_64.manylinux2014_x86_64.whl (194 kB)\n",
            "Using cached fsspec-2024.2.0-py3-none-any.whl (170 kB)\n",
            "Installing collected packages: xxhash, pyarrow-hotfix, pyarrow, fsspec, huggingface-hub, datasets\n",
            "Successfully installed datasets-2.18.0 fsspec-2024.2.0 huggingface-hub-0.22.2 pyarrow-15.0.2 pyarrow-hotfix-0.6 xxhash-3.4.1\n"
          ]
        },
        {
          "data": {
            "text/plain": [
              "Dataset({\n",
              "    features: ['reviewText', 'overall'],\n",
              "    num_rows: 600\n",
              "})"
            ]
          },
          "execution_count": 1,
          "metadata": {},
          "output_type": "execute_result"
        }
      ],
      "source": [
        "!pip install datasets\n",
        "\n",
        "# Step 3: If you're using Hugging Face Datasets, register the dataset\n",
        "from datasets import Dataset\n",
        "\n",
        "# Load the saved CSV file\n",
        "train_dataset = Dataset.from_csv('train_dataset.csv')\n",
        "train_dataset\n",
        "\n",
        "validation_dataset = Dataset.from_csv('validation_dataset.csv')\n",
        "validation_dataset\n"
      ]
    },
    {
      "cell_type": "code",
      "execution_count": null,
      "id": "ed7185df-2e20-4da5-af06-2ed1fd3cf72b",
      "metadata": {
        "tags": [],
        "id": "ed7185df-2e20-4da5-af06-2ed1fd3cf72b",
        "outputId": "b389e47d-95ec-4aa8-a172-89c2016b6db2"
      },
      "outputs": [
        {
          "data": {
            "text/plain": [
              "DatasetDict({\n",
              "    train: Dataset({\n",
              "        features: ['reviewText', 'overall'],\n",
              "        num_rows: 3997\n",
              "    })\n",
              "    validation: Dataset({\n",
              "        features: ['reviewText', 'overall'],\n",
              "        num_rows: 1000\n",
              "    })\n",
              "    test: Dataset({\n",
              "        features: ['reviewText', 'overall'],\n",
              "        num_rows: 600\n",
              "    })\n",
              "})"
            ]
          },
          "execution_count": 2,
          "metadata": {},
          "output_type": "execute_result"
        }
      ],
      "source": [
        "train_dataset\n",
        "\n",
        "validation_dataset\n",
        "\n",
        "test_dataset\n",
        "\n",
        "from datasets import DatasetDict, load_dataset\n",
        "\n",
        "# Create a DatasetDict with train and validation splits\n",
        "split_dataset = DatasetDict({'train': train_dataset, 'validation': validation_dataset, 'test': test_dataset})\n",
        "\n",
        "\n",
        "split_dataset"
      ]
    },
    {
      "cell_type": "code",
      "execution_count": null,
      "id": "f04ee911-653f-4a7e-9904-b101356d0257",
      "metadata": {
        "tags": [],
        "id": "f04ee911-653f-4a7e-9904-b101356d0257",
        "outputId": "efe03676-3c75-4aeb-baec-5b9f9937fc1a"
      },
      "outputs": [
        {
          "name": "stdout",
          "output_type": "stream",
          "text": [
            "Collecting transformers[torch]\n",
            "  Obtaining dependency information for transformers[torch] from https://files.pythonhosted.org/packages/15/fc/7b6dd7e1adc0a6407b845ed4be1999e98b6917d0694e57316d140cc85484/transformers-4.39.3-py3-none-any.whl.metadata\n",
            "  Using cached transformers-4.39.3-py3-none-any.whl.metadata (134 kB)\n",
            "Requirement already satisfied: filelock in /opt/conda/envs/sagemaker-distribution/lib/python3.8/site-packages (from transformers[torch]) (3.12.2)\n",
            "Requirement already satisfied: huggingface-hub<1.0,>=0.19.3 in /opt/conda/envs/sagemaker-distribution/lib/python3.8/site-packages (from transformers[torch]) (0.22.2)\n",
            "Requirement already satisfied: numpy>=1.17 in /opt/conda/envs/sagemaker-distribution/lib/python3.8/site-packages (from transformers[torch]) (1.24.4)\n",
            "Requirement already satisfied: packaging>=20.0 in /opt/conda/envs/sagemaker-distribution/lib/python3.8/site-packages (from transformers[torch]) (23.1)\n",
            "Requirement already satisfied: pyyaml>=5.1 in /opt/conda/envs/sagemaker-distribution/lib/python3.8/site-packages (from transformers[torch]) (6.0)\n",
            "Collecting regex!=2019.12.17 (from transformers[torch])\n",
            "  Obtaining dependency information for regex!=2019.12.17 from https://files.pythonhosted.org/packages/eb/10/4ccc8eed80f11c082a2883d49d4090aa80c7f65704216a529f490cb089b1/regex-2023.12.25-cp38-cp38-manylinux_2_17_x86_64.manylinux2014_x86_64.whl.metadata\n",
            "  Using cached regex-2023.12.25-cp38-cp38-manylinux_2_17_x86_64.manylinux2014_x86_64.whl.metadata (40 kB)\n",
            "Requirement already satisfied: requests in /opt/conda/envs/sagemaker-distribution/lib/python3.8/site-packages (from transformers[torch]) (2.31.0)\n",
            "Collecting tokenizers<0.19,>=0.14 (from transformers[torch])\n",
            "  Obtaining dependency information for tokenizers<0.19,>=0.14 from https://files.pythonhosted.org/packages/0e/d7/3220a4483d240180d0b9423206cc57a4997fd4b49a8393e5ce9a2f7908a9/tokenizers-0.15.2-cp38-cp38-manylinux_2_17_x86_64.manylinux2014_x86_64.whl.metadata\n",
            "  Using cached tokenizers-0.15.2-cp38-cp38-manylinux_2_17_x86_64.manylinux2014_x86_64.whl.metadata (6.7 kB)\n",
            "Collecting safetensors>=0.4.1 (from transformers[torch])\n",
            "  Obtaining dependency information for safetensors>=0.4.1 from https://files.pythonhosted.org/packages/50/7f/8f6dd5b16cdc9efb01ea6169037c2b4a1e3b433baae78ab14c0f8f88f012/safetensors-0.4.2-cp38-cp38-manylinux_2_17_x86_64.manylinux2014_x86_64.whl.metadata\n",
            "  Using cached safetensors-0.4.2-cp38-cp38-manylinux_2_17_x86_64.manylinux2014_x86_64.whl.metadata (3.8 kB)\n",
            "Requirement already satisfied: tqdm>=4.27 in /opt/conda/envs/sagemaker-distribution/lib/python3.8/site-packages (from transformers[torch]) (4.65.0)\n",
            "Requirement already satisfied: torch in /opt/conda/envs/sagemaker-distribution/lib/python3.8/site-packages (from transformers[torch]) (2.0.0.post200)\n",
            "Collecting accelerate>=0.21.0 (from transformers[torch])\n",
            "  Obtaining dependency information for accelerate>=0.21.0 from https://files.pythonhosted.org/packages/1b/e8/2fc7af3fa77ddac89a9c9b390d2d31d1db0612247ba2274009946959604e/accelerate-0.29.2-py3-none-any.whl.metadata\n",
            "  Using cached accelerate-0.29.2-py3-none-any.whl.metadata (18 kB)\n",
            "Requirement already satisfied: psutil in /opt/conda/envs/sagemaker-distribution/lib/python3.8/site-packages (from accelerate>=0.21.0->transformers[torch]) (5.9.5)\n",
            "Requirement already satisfied: fsspec>=2023.5.0 in /opt/conda/envs/sagemaker-distribution/lib/python3.8/site-packages (from huggingface-hub<1.0,>=0.19.3->transformers[torch]) (2024.2.0)\n",
            "Requirement already satisfied: typing-extensions>=3.7.4.3 in /opt/conda/envs/sagemaker-distribution/lib/python3.8/site-packages (from huggingface-hub<1.0,>=0.19.3->transformers[torch]) (4.5.0)\n",
            "Requirement already satisfied: sympy in /opt/conda/envs/sagemaker-distribution/lib/python3.8/site-packages (from torch->transformers[torch]) (1.12)\n",
            "Requirement already satisfied: networkx in /opt/conda/envs/sagemaker-distribution/lib/python3.8/site-packages (from torch->transformers[torch]) (3.1)\n",
            "Requirement already satisfied: jinja2 in /opt/conda/envs/sagemaker-distribution/lib/python3.8/site-packages (from torch->transformers[torch]) (3.1.2)\n",
            "Requirement already satisfied: charset-normalizer<4,>=2 in /opt/conda/envs/sagemaker-distribution/lib/python3.8/site-packages (from requests->transformers[torch]) (3.2.0)\n",
            "Requirement already satisfied: idna<4,>=2.5 in /opt/conda/envs/sagemaker-distribution/lib/python3.8/site-packages (from requests->transformers[torch]) (3.4)\n",
            "Requirement already satisfied: urllib3<3,>=1.21.1 in /opt/conda/envs/sagemaker-distribution/lib/python3.8/site-packages (from requests->transformers[torch]) (1.26.15)\n",
            "Requirement already satisfied: certifi>=2017.4.17 in /opt/conda/envs/sagemaker-distribution/lib/python3.8/site-packages (from requests->transformers[torch]) (2023.7.22)\n",
            "Requirement already satisfied: MarkupSafe>=2.0 in /opt/conda/envs/sagemaker-distribution/lib/python3.8/site-packages (from jinja2->torch->transformers[torch]) (2.1.3)\n",
            "Requirement already satisfied: mpmath>=0.19 in /opt/conda/envs/sagemaker-distribution/lib/python3.8/site-packages (from sympy->torch->transformers[torch]) (1.3.0)\n",
            "Using cached accelerate-0.29.2-py3-none-any.whl (297 kB)\n",
            "Using cached regex-2023.12.25-cp38-cp38-manylinux_2_17_x86_64.manylinux2014_x86_64.whl (777 kB)\n",
            "Using cached safetensors-0.4.2-cp38-cp38-manylinux_2_17_x86_64.manylinux2014_x86_64.whl (1.3 MB)\n",
            "Using cached tokenizers-0.15.2-cp38-cp38-manylinux_2_17_x86_64.manylinux2014_x86_64.whl (3.6 MB)\n",
            "Using cached transformers-4.39.3-py3-none-any.whl (8.8 MB)\n",
            "Installing collected packages: safetensors, regex, tokenizers, accelerate, transformers\n",
            "Successfully installed accelerate-0.29.2 regex-2023.12.25 safetensors-0.4.2 tokenizers-0.15.2 transformers-4.39.3\n"
          ]
        }
      ],
      "source": [
        "!pip install transformers[torch]"
      ]
    },
    {
      "cell_type": "code",
      "execution_count": null,
      "id": "0bc83deb-bd24-4a16-8b70-674188f687e4",
      "metadata": {
        "tags": [],
        "id": "0bc83deb-bd24-4a16-8b70-674188f687e4",
        "outputId": "66058195-82d3-4820-cca9-e4d2c466160c"
      },
      "outputs": [
        {
          "name": "stdout",
          "output_type": "stream",
          "text": [
            "Collecting evaluate\n",
            "  Obtaining dependency information for evaluate from https://files.pythonhosted.org/packages/70/63/7644a1eb7b0297e585a6adec98ed9e575309bb973c33b394dae66bc35c69/evaluate-0.4.1-py3-none-any.whl.metadata\n",
            "  Using cached evaluate-0.4.1-py3-none-any.whl.metadata (9.4 kB)\n",
            "Requirement already satisfied: accelerate in /opt/conda/envs/sagemaker-distribution/lib/python3.8/site-packages (0.29.2)\n",
            "Requirement already satisfied: datasets>=2.0.0 in /opt/conda/envs/sagemaker-distribution/lib/python3.8/site-packages (from evaluate) (2.18.0)\n",
            "Requirement already satisfied: numpy>=1.17 in /opt/conda/envs/sagemaker-distribution/lib/python3.8/site-packages (from evaluate) (1.24.4)\n",
            "Requirement already satisfied: dill in /opt/conda/envs/sagemaker-distribution/lib/python3.8/site-packages (from evaluate) (0.3.7)\n",
            "Requirement already satisfied: pandas in /opt/conda/envs/sagemaker-distribution/lib/python3.8/site-packages (from evaluate) (2.0.3)\n",
            "Requirement already satisfied: requests>=2.19.0 in /opt/conda/envs/sagemaker-distribution/lib/python3.8/site-packages (from evaluate) (2.31.0)\n",
            "Requirement already satisfied: tqdm>=4.62.1 in /opt/conda/envs/sagemaker-distribution/lib/python3.8/site-packages (from evaluate) (4.65.0)\n",
            "Requirement already satisfied: xxhash in /opt/conda/envs/sagemaker-distribution/lib/python3.8/site-packages (from evaluate) (3.4.1)\n",
            "Requirement already satisfied: multiprocess in /opt/conda/envs/sagemaker-distribution/lib/python3.8/site-packages (from evaluate) (0.70.15)\n",
            "Requirement already satisfied: fsspec[http]>=2021.05.0 in /opt/conda/envs/sagemaker-distribution/lib/python3.8/site-packages (from evaluate) (2024.2.0)\n",
            "Requirement already satisfied: huggingface-hub>=0.7.0 in /opt/conda/envs/sagemaker-distribution/lib/python3.8/site-packages (from evaluate) (0.22.2)\n",
            "Requirement already satisfied: packaging in /opt/conda/envs/sagemaker-distribution/lib/python3.8/site-packages (from evaluate) (23.1)\n",
            "Collecting responses<0.19 (from evaluate)\n",
            "  Obtaining dependency information for responses<0.19 from https://files.pythonhosted.org/packages/79/f3/2b3a6dc5986303b3dd1bbbcf482022acb2583c428cd23f0b6d37b1a1a519/responses-0.18.0-py3-none-any.whl.metadata\n",
            "  Using cached responses-0.18.0-py3-none-any.whl.metadata (29 kB)\n",
            "Requirement already satisfied: psutil in /opt/conda/envs/sagemaker-distribution/lib/python3.8/site-packages (from accelerate) (5.9.5)\n",
            "Requirement already satisfied: pyyaml in /opt/conda/envs/sagemaker-distribution/lib/python3.8/site-packages (from accelerate) (6.0)\n",
            "Requirement already satisfied: torch>=1.10.0 in /opt/conda/envs/sagemaker-distribution/lib/python3.8/site-packages (from accelerate) (2.0.0.post200)\n",
            "Requirement already satisfied: safetensors>=0.3.1 in /opt/conda/envs/sagemaker-distribution/lib/python3.8/site-packages (from accelerate) (0.4.2)\n",
            "Requirement already satisfied: filelock in /opt/conda/envs/sagemaker-distribution/lib/python3.8/site-packages (from datasets>=2.0.0->evaluate) (3.12.2)\n",
            "Requirement already satisfied: pyarrow>=12.0.0 in /opt/conda/envs/sagemaker-distribution/lib/python3.8/site-packages (from datasets>=2.0.0->evaluate) (15.0.2)\n",
            "Requirement already satisfied: pyarrow-hotfix in /opt/conda/envs/sagemaker-distribution/lib/python3.8/site-packages (from datasets>=2.0.0->evaluate) (0.6)\n",
            "Requirement already satisfied: aiohttp in /opt/conda/envs/sagemaker-distribution/lib/python3.8/site-packages (from datasets>=2.0.0->evaluate) (3.8.5)\n",
            "Requirement already satisfied: typing-extensions>=3.7.4.3 in /opt/conda/envs/sagemaker-distribution/lib/python3.8/site-packages (from huggingface-hub>=0.7.0->evaluate) (4.5.0)\n",
            "Requirement already satisfied: charset-normalizer<4,>=2 in /opt/conda/envs/sagemaker-distribution/lib/python3.8/site-packages (from requests>=2.19.0->evaluate) (3.2.0)\n",
            "Requirement already satisfied: idna<4,>=2.5 in /opt/conda/envs/sagemaker-distribution/lib/python3.8/site-packages (from requests>=2.19.0->evaluate) (3.4)\n",
            "Requirement already satisfied: urllib3<3,>=1.21.1 in /opt/conda/envs/sagemaker-distribution/lib/python3.8/site-packages (from requests>=2.19.0->evaluate) (1.26.15)\n",
            "Requirement already satisfied: certifi>=2017.4.17 in /opt/conda/envs/sagemaker-distribution/lib/python3.8/site-packages (from requests>=2.19.0->evaluate) (2023.7.22)\n",
            "Requirement already satisfied: sympy in /opt/conda/envs/sagemaker-distribution/lib/python3.8/site-packages (from torch>=1.10.0->accelerate) (1.12)\n",
            "Requirement already satisfied: networkx in /opt/conda/envs/sagemaker-distribution/lib/python3.8/site-packages (from torch>=1.10.0->accelerate) (3.1)\n",
            "Requirement already satisfied: jinja2 in /opt/conda/envs/sagemaker-distribution/lib/python3.8/site-packages (from torch>=1.10.0->accelerate) (3.1.2)\n",
            "Requirement already satisfied: python-dateutil>=2.8.2 in /opt/conda/envs/sagemaker-distribution/lib/python3.8/site-packages (from pandas->evaluate) (2.8.2)\n",
            "Requirement already satisfied: pytz>=2020.1 in /opt/conda/envs/sagemaker-distribution/lib/python3.8/site-packages (from pandas->evaluate) (2023.3)\n",
            "Requirement already satisfied: tzdata>=2022.1 in /opt/conda/envs/sagemaker-distribution/lib/python3.8/site-packages (from pandas->evaluate) (2023.3)\n",
            "Requirement already satisfied: attrs>=17.3.0 in /opt/conda/envs/sagemaker-distribution/lib/python3.8/site-packages (from aiohttp->datasets>=2.0.0->evaluate) (23.1.0)\n",
            "Requirement already satisfied: multidict<7.0,>=4.5 in /opt/conda/envs/sagemaker-distribution/lib/python3.8/site-packages (from aiohttp->datasets>=2.0.0->evaluate) (6.0.4)\n",
            "Requirement already satisfied: async-timeout<5.0,>=4.0.0a3 in /opt/conda/envs/sagemaker-distribution/lib/python3.8/site-packages (from aiohttp->datasets>=2.0.0->evaluate) (4.0.2)\n",
            "Requirement already satisfied: yarl<2.0,>=1.0 in /opt/conda/envs/sagemaker-distribution/lib/python3.8/site-packages (from aiohttp->datasets>=2.0.0->evaluate) (1.9.2)\n",
            "Requirement already satisfied: frozenlist>=1.1.1 in /opt/conda/envs/sagemaker-distribution/lib/python3.8/site-packages (from aiohttp->datasets>=2.0.0->evaluate) (1.4.0)\n",
            "Requirement already satisfied: aiosignal>=1.1.2 in /opt/conda/envs/sagemaker-distribution/lib/python3.8/site-packages (from aiohttp->datasets>=2.0.0->evaluate) (1.3.1)\n",
            "Requirement already satisfied: six>=1.5 in /opt/conda/envs/sagemaker-distribution/lib/python3.8/site-packages (from python-dateutil>=2.8.2->pandas->evaluate) (1.16.0)\n",
            "Requirement already satisfied: MarkupSafe>=2.0 in /opt/conda/envs/sagemaker-distribution/lib/python3.8/site-packages (from jinja2->torch>=1.10.0->accelerate) (2.1.3)\n",
            "Requirement already satisfied: mpmath>=0.19 in /opt/conda/envs/sagemaker-distribution/lib/python3.8/site-packages (from sympy->torch>=1.10.0->accelerate) (1.3.0)\n",
            "Using cached evaluate-0.4.1-py3-none-any.whl (84 kB)\n",
            "Using cached responses-0.18.0-py3-none-any.whl (38 kB)\n",
            "Installing collected packages: responses, evaluate\n",
            "Successfully installed evaluate-0.4.1 responses-0.18.0\n"
          ]
        }
      ],
      "source": [
        "!pip install evaluate accelerate"
      ]
    },
    {
      "cell_type": "code",
      "execution_count": null,
      "id": "abd8875f-317f-4445-b523-19be85e6413d",
      "metadata": {
        "tags": [],
        "id": "abd8875f-317f-4445-b523-19be85e6413d"
      },
      "outputs": [],
      "source": [
        "from transformers import GPT2Tokenizer\n",
        "\n",
        "tokenizer = GPT2Tokenizer.from_pretrained(\"gpt2\", padding=True)\n",
        "tokenizer.pad_token = tokenizer.eos_token"
      ]
    },
    {
      "cell_type": "code",
      "execution_count": null,
      "id": "c18575a4-2078-460c-80f7-c9319d3bd77b",
      "metadata": {
        "tags": [],
        "colab": {
          "referenced_widgets": [
            "3bc1ee488f2d4a069768258b326214ae",
            "e575fb6c216f467b959539313c66ea1d",
            "b0cc0784ab3e45c183089dd7cc2233e5"
          ]
        },
        "id": "c18575a4-2078-460c-80f7-c9319d3bd77b",
        "outputId": "7f17b549-896d-47b7-8c81-0220016b90e3"
      },
      "outputs": [
        {
          "data": {
            "application/vnd.jupyter.widget-view+json": {
              "model_id": "3bc1ee488f2d4a069768258b326214ae",
              "version_major": 2,
              "version_minor": 0
            },
            "text/plain": [
              "Map:   0%|          | 0/3997 [00:00<?, ? examples/s]"
            ]
          },
          "metadata": {},
          "output_type": "display_data"
        },
        {
          "data": {
            "application/vnd.jupyter.widget-view+json": {
              "model_id": "e575fb6c216f467b959539313c66ea1d",
              "version_major": 2,
              "version_minor": 0
            },
            "text/plain": [
              "Map:   0%|          | 0/1000 [00:00<?, ? examples/s]"
            ]
          },
          "metadata": {},
          "output_type": "display_data"
        },
        {
          "data": {
            "application/vnd.jupyter.widget-view+json": {
              "model_id": "b0cc0784ab3e45c183089dd7cc2233e5",
              "version_major": 2,
              "version_minor": 0
            },
            "text/plain": [
              "Map:   0%|          | 0/600 [00:00<?, ? examples/s]"
            ]
          },
          "metadata": {},
          "output_type": "display_data"
        }
      ],
      "source": [
        "def tokenize_function(examples):\n",
        "    return tokenizer(examples[\"reviewText\"], truncation=True)\n",
        "\n",
        "# Now you can use the .map() method on the train_dataset\n",
        "tokenized_datasets = split_dataset.map(tokenize_function, batched=True)"
      ]
    },
    {
      "cell_type": "code",
      "execution_count": null,
      "id": "0d125460-bee7-4686-ac34-72f45652c5f5",
      "metadata": {
        "tags": [],
        "id": "0d125460-bee7-4686-ac34-72f45652c5f5",
        "outputId": "152931a3-0a8e-41ee-c696-eafecbba6b67"
      },
      "outputs": [
        {
          "data": {
            "text/plain": [
              "DatasetDict({\n",
              "    train: Dataset({\n",
              "        features: ['reviewText', 'labels', 'input_ids', 'attention_mask'],\n",
              "        num_rows: 3997\n",
              "    })\n",
              "    validation: Dataset({\n",
              "        features: ['reviewText', 'labels', 'input_ids', 'attention_mask'],\n",
              "        num_rows: 1000\n",
              "    })\n",
              "    test: Dataset({\n",
              "        features: ['reviewText', 'labels', 'input_ids', 'attention_mask'],\n",
              "        num_rows: 600\n",
              "    })\n",
              "})"
            ]
          },
          "execution_count": 44,
          "metadata": {},
          "output_type": "execute_result"
        }
      ],
      "source": [
        "tokenized_datasets = tokenized_datasets.rename_column(\"overall\", \"labels\")\n",
        "tokenized_datasets\n"
      ]
    },
    {
      "cell_type": "code",
      "execution_count": null,
      "id": "9d7711c7-a2e8-434a-8b45-e63817c5c38b",
      "metadata": {
        "tags": [],
        "id": "9d7711c7-a2e8-434a-8b45-e63817c5c38b"
      },
      "outputs": [],
      "source": [
        "# Extract review texts from validation and test of dataset\n",
        "review_texts_validation = tokenized_datasets['validation']['reviewText']\n",
        "reviews_texts_test = tokenized_datasets['test']['reviewText']\n"
      ]
    },
    {
      "cell_type": "code",
      "execution_count": null,
      "id": "c786cbf1-8b9f-4c8c-bd6e-21b38079a769",
      "metadata": {
        "tags": [],
        "id": "c786cbf1-8b9f-4c8c-bd6e-21b38079a769"
      },
      "outputs": [],
      "source": [
        "tokenized_datasets = tokenized_datasets.remove_columns([\"reviewText\"])\n"
      ]
    },
    {
      "cell_type": "code",
      "execution_count": null,
      "id": "023328fe-95d7-4e00-a614-d588f4c2eb92",
      "metadata": {
        "tags": [],
        "id": "023328fe-95d7-4e00-a614-d588f4c2eb92"
      },
      "outputs": [],
      "source": [
        "# Extract actual labels from the validation split of the tokenized datasets\n",
        "actual_labels_validation = tokenized_datasets['validation']['labels']\n",
        "actual_labels_test= tokenized_datasets['test']['labels']\n"
      ]
    },
    {
      "cell_type": "code",
      "execution_count": null,
      "id": "99a1619f-42a2-47d0-9158-b7378797b262",
      "metadata": {
        "tags": [],
        "id": "99a1619f-42a2-47d0-9158-b7378797b262"
      },
      "outputs": [],
      "source": [
        "tokenized_datasets = tokenized_datasets.with_format(\"torch\")"
      ]
    },
    {
      "cell_type": "code",
      "execution_count": null,
      "id": "c4b114fa-eb56-4c76-a30a-8b5b3f6a2a6a",
      "metadata": {
        "tags": [],
        "id": "c4b114fa-eb56-4c76-a30a-8b5b3f6a2a6a"
      },
      "outputs": [],
      "source": [
        "from transformers import DataCollatorWithPadding\n",
        "\n",
        "data_collator = DataCollatorWithPadding(tokenizer=tokenizer)"
      ]
    },
    {
      "cell_type": "code",
      "execution_count": null,
      "id": "53352998-f764-4913-9219-94f713c3cb59",
      "metadata": {
        "tags": [],
        "id": "53352998-f764-4913-9219-94f713c3cb59",
        "outputId": "5c890b00-5a8e-4cca-af79-4757bec4c505"
      },
      "outputs": [
        {
          "name": "stderr",
          "output_type": "stream",
          "text": [
            "Some weights of GPT2ForSequenceClassification were not initialized from the model checkpoint at gpt2 and are newly initialized: ['score.weight']\n",
            "You should probably TRAIN this model on a down-stream task to be able to use it for predictions and inference.\n"
          ]
        }
      ],
      "source": [
        "#from transformers import GPT2Model, TrainingArguments, Trainer\n",
        "#import torch\n",
        "from transformers import GPT2ForSequenceClassification, TrainingArguments, Trainer\n",
        "#model = GPT2Model.from_pretrained(\"openai-community/gpt2\", num_labels=5)\n",
        "model = GPT2ForSequenceClassification.from_pretrained(\"gpt2\", num_labels=5)\n",
        "model.config.pad_token_id = model.config.eos_token_id"
      ]
    },
    {
      "cell_type": "code",
      "execution_count": null,
      "id": "017f42f1-cc80-4e80-bf35-10738db3dd36",
      "metadata": {
        "tags": [],
        "id": "017f42f1-cc80-4e80-bf35-10738db3dd36"
      },
      "outputs": [],
      "source": [
        "import evaluate\n",
        "\n",
        "accuracy = evaluate.load(\"accuracy\")"
      ]
    },
    {
      "cell_type": "code",
      "execution_count": null,
      "id": "5a63bb81-7b0b-4b15-923c-df6791463065",
      "metadata": {
        "tags": [],
        "id": "5a63bb81-7b0b-4b15-923c-df6791463065"
      },
      "outputs": [],
      "source": [
        "import numpy as np\n",
        "\n",
        "\n",
        "def compute_metrics(eval_pred):\n",
        "    predictions, labels = eval_pred\n",
        "    predictions = np.argmax(predictions, axis=1)\n",
        "    return accuracy.compute(predictions=predictions, references=labels)"
      ]
    },
    {
      "cell_type": "code",
      "execution_count": null,
      "id": "850c3855-e094-4e7b-a2b3-0eb5c9317a3a",
      "metadata": {
        "tags": [],
        "id": "850c3855-e094-4e7b-a2b3-0eb5c9317a3a",
        "outputId": "e9de4970-6226-49c4-f88b-197a6eb37090"
      },
      "outputs": [
        {
          "name": "stderr",
          "output_type": "stream",
          "text": [
            "/opt/conda/envs/sagemaker-distribution/lib/python3.8/site-packages/accelerate/accelerator.py:436: FutureWarning: Passing the following arguments to `Accelerator` is deprecated and will be removed in version 1.0 of Accelerate: dict_keys(['dispatch_batches', 'split_batches', 'even_batches', 'use_seedable_sampler']). Please pass an `accelerate.DataLoaderConfiguration` instead: \n",
            "dataloader_config = DataLoaderConfiguration(dispatch_batches=None, split_batches=False, even_batches=True, use_seedable_sampler=True)\n",
            "  warnings.warn(\n",
            "Detected kernel version 4.14.336, which is below the recommended minimum of 5.5.0; this can cause the process to hang. It is recommended to upgrade the kernel to the minimum version or higher.\n"
          ]
        },
        {
          "data": {
            "text/html": [
              "\n",
              "    <div>\n",
              "      \n",
              "      <progress value='13330' max='13330' style='width:300px; height:20px; vertical-align: middle;'></progress>\n",
              "      [13330/13330 1:04:26, Epoch 10/10]\n",
              "    </div>\n",
              "    <table border=\"1\" class=\"dataframe\">\n",
              "  <thead>\n",
              " <tr style=\"text-align: left;\">\n",
              "      <th>Epoch</th>\n",
              "      <th>Training Loss</th>\n",
              "      <th>Validation Loss</th>\n",
              "      <th>Accuracy</th>\n",
              "    </tr>\n",
              "  </thead>\n",
              "  <tbody>\n",
              "    <tr>\n",
              "      <td>1</td>\n",
              "      <td>1.040800</td>\n",
              "      <td>0.940508</td>\n",
              "      <td>0.617000</td>\n",
              "    </tr>\n",
              "    <tr>\n",
              "      <td>2</td>\n",
              "      <td>0.828600</td>\n",
              "      <td>0.913622</td>\n",
              "      <td>0.656000</td>\n",
              "    </tr>\n",
              "    <tr>\n",
              "      <td>3</td>\n",
              "      <td>0.745100</td>\n",
              "      <td>1.113774</td>\n",
              "      <td>0.645000</td>\n",
              "    </tr>\n",
              "    <tr>\n",
              "      <td>4</td>\n",
              "      <td>0.726500</td>\n",
              "      <td>1.608073</td>\n",
              "      <td>0.637000</td>\n",
              "    </tr>\n",
              "    <tr>\n",
              "      <td>5</td>\n",
              "      <td>0.555700</td>\n",
              "      <td>2.131713</td>\n",
              "      <td>0.639000</td>\n",
              "    </tr>\n",
              "    <tr>\n",
              "      <td>6</td>\n",
              "      <td>0.391000</td>\n",
              "      <td>2.785541</td>\n",
              "      <td>0.620000</td>\n",
              "    </tr>\n",
              "    <tr>\n",
              "      <td>7</td>\n",
              "      <td>0.316800</td>\n",
              "      <td>3.140643</td>\n",
              "      <td>0.633000</td>\n",
              "    </tr>\n",
              "    <tr>\n",
              "      <td>8</td>\n",
              "      <td>0.231800</td>\n",
              "      <td>3.389966</td>\n",
              "      <td>0.637000</td>\n",
              "    </tr>\n",
              "    <tr>\n",
              "      <td>9</td>\n",
              "      <td>0.139200</td>\n",
              "      <td>3.627032</td>\n",
              "      <td>0.633000</td>\n",
              "    </tr>\n",
              "    <tr>\n",
              "      <td>10</td>\n",
              "      <td>0.090300</td>\n",
              "      <td>3.759121</td>\n",
              "      <td>0.634000</td>\n",
              "    </tr>\n",
              "  </tbody>\n",
              "</table><p>"
            ],
            "text/plain": [
              "<IPython.core.display.HTML object>"
            ]
          },
          "metadata": {},
          "output_type": "display_data"
        },
        {
          "data": {
            "text/plain": [
              "TrainOutput(global_step=13330, training_loss=0.5199130671416023, metrics={'train_runtime': 3867.2771, 'train_samples_per_second': 10.335, 'train_steps_per_second': 3.447, 'total_flos': 6878254234406400.0, 'train_loss': 0.5199130671416023, 'epoch': 10.0})"
            ]
          },
          "execution_count": 18,
          "metadata": {},
          "output_type": "execute_result"
        }
      ],
      "source": [
        "training_args = TrainingArguments(\n",
        "    output_dir=\"my_awesome_model\",\n",
        "    learning_rate=2e-5,\n",
        "    per_device_train_batch_size=3,\n",
        "    per_device_eval_batch_size=16,\n",
        "    num_train_epochs=10,\n",
        "    weight_decay=0.01,\n",
        "    evaluation_strategy=\"epoch\",\n",
        "    save_strategy=\"epoch\",\n",
        "    load_best_model_at_end=True,\n",
        ")\n",
        "\n",
        "trainer = Trainer(\n",
        "    model=model,\n",
        "    args=training_args,\n",
        "    train_dataset=tokenized_datasets[\"train\"],\n",
        "    eval_dataset=tokenized_datasets[\"validation\"],\n",
        "    tokenizer=tokenizer,\n",
        "    data_collator=data_collator,\n",
        "    compute_metrics=compute_metrics,\n",
        ")\n",
        "\n",
        "trainer.train()"
      ]
    },
    {
      "cell_type": "code",
      "execution_count": null,
      "id": "b4676585-c6de-4433-8ae5-b5c43d1ba197",
      "metadata": {
        "tags": [],
        "id": "b4676585-c6de-4433-8ae5-b5c43d1ba197",
        "outputId": "f795ede9-967f-4da8-b0cd-e800f7e7f239"
      },
      "outputs": [
        {
          "data": {
            "text/html": [],
            "text/plain": [
              "<IPython.core.display.HTML object>"
            ]
          },
          "metadata": {},
          "output_type": "display_data"
        }
      ],
      "source": [
        "# Generate predictions for the validation dataset\n",
        "predictions_validation = trainer.predict(tokenized_datasets['validation'])\n",
        "\n",
        "# Extract predicted labels from the predictions\n",
        "predicted_labels_validation = np.argmax(predictions_validation.predictions, axis=-1)\n",
        "\n",
        "# You can now use the predicted_labels array for further analysis or evaluation\n"
      ]
    },
    {
      "cell_type": "code",
      "execution_count": null,
      "id": "32711fda-9073-4bce-bba1-98c8496736c8",
      "metadata": {
        "id": "32711fda-9073-4bce-bba1-98c8496736c8",
        "outputId": "244a9975-4e82-45c6-cfbc-d218a9db5126"
      },
      "outputs": [
        {
          "name": "stdout",
          "output_type": "stream",
          "text": [
            "Accuracy: 0.656\n",
            "F1 Score: 0.6377681792509443\n"
          ]
        }
      ],
      "source": [
        "from sklearn.metrics import accuracy_score, f1_score\n",
        "\n",
        "# Assuming true labels for the validation dataset are stored in true_labels_validation variable\n",
        "\n",
        "# Calculate accuracy\n",
        "accuracy = accuracy_score(actual_labels_validation, predicted_labels_validation)\n",
        "\n",
        "# Calculate F1 score\n",
        "f1 = f1_score(actual_labels_validation, predicted_labels_validation, average='weighted')\n",
        "\n",
        "print(\"Accuracy:\", accuracy)\n",
        "print(\"F1 Score:\", f1)\n"
      ]
    },
    {
      "cell_type": "code",
      "execution_count": null,
      "id": "d85fffc4-2599-47ea-ab0a-b3b16cf721db",
      "metadata": {
        "tags": [],
        "id": "d85fffc4-2599-47ea-ab0a-b3b16cf721db",
        "outputId": "183dd674-070b-49dc-894a-45e4342f8e9b"
      },
      "outputs": [
        {
          "name": "stdout",
          "output_type": "stream",
          "text": [
            "Collecting seaborn\n",
            "  Obtaining dependency information for seaborn from https://files.pythonhosted.org/packages/83/11/00d3c3dfc25ad54e731d91449895a79e4bf2384dc3ac01809010ba88f6d5/seaborn-0.13.2-py3-none-any.whl.metadata\n",
            "  Using cached seaborn-0.13.2-py3-none-any.whl.metadata (5.4 kB)\n",
            "Requirement already satisfied: numpy!=1.24.0,>=1.20 in /opt/conda/envs/sagemaker-distribution/lib/python3.8/site-packages (from seaborn) (1.24.4)\n",
            "Requirement already satisfied: pandas>=1.2 in /opt/conda/envs/sagemaker-distribution/lib/python3.8/site-packages (from seaborn) (2.0.3)\n",
            "Requirement already satisfied: matplotlib!=3.6.1,>=3.4 in /opt/conda/envs/sagemaker-distribution/lib/python3.8/site-packages (from seaborn) (3.7.2)\n",
            "Requirement already satisfied: contourpy>=1.0.1 in /opt/conda/envs/sagemaker-distribution/lib/python3.8/site-packages (from matplotlib!=3.6.1,>=3.4->seaborn) (1.1.0)\n",
            "Requirement already satisfied: cycler>=0.10 in /opt/conda/envs/sagemaker-distribution/lib/python3.8/site-packages (from matplotlib!=3.6.1,>=3.4->seaborn) (0.11.0)\n",
            "Requirement already satisfied: fonttools>=4.22.0 in /opt/conda/envs/sagemaker-distribution/lib/python3.8/site-packages (from matplotlib!=3.6.1,>=3.4->seaborn) (4.42.0)\n",
            "Requirement already satisfied: kiwisolver>=1.0.1 in /opt/conda/envs/sagemaker-distribution/lib/python3.8/site-packages (from matplotlib!=3.6.1,>=3.4->seaborn) (1.4.4)\n",
            "Requirement already satisfied: packaging>=20.0 in /opt/conda/envs/sagemaker-distribution/lib/python3.8/site-packages (from matplotlib!=3.6.1,>=3.4->seaborn) (23.1)\n",
            "Requirement already satisfied: pillow>=6.2.0 in /opt/conda/envs/sagemaker-distribution/lib/python3.8/site-packages (from matplotlib!=3.6.1,>=3.4->seaborn) (10.0.0)\n",
            "Requirement already satisfied: pyparsing<3.1,>=2.3.1 in /opt/conda/envs/sagemaker-distribution/lib/python3.8/site-packages (from matplotlib!=3.6.1,>=3.4->seaborn) (3.0.9)\n",
            "Requirement already satisfied: python-dateutil>=2.7 in /opt/conda/envs/sagemaker-distribution/lib/python3.8/site-packages (from matplotlib!=3.6.1,>=3.4->seaborn) (2.8.2)\n",
            "Requirement already satisfied: importlib-resources>=3.2.0 in /opt/conda/envs/sagemaker-distribution/lib/python3.8/site-packages (from matplotlib!=3.6.1,>=3.4->seaborn) (6.0.1)\n",
            "Requirement already satisfied: pytz>=2020.1 in /opt/conda/envs/sagemaker-distribution/lib/python3.8/site-packages (from pandas>=1.2->seaborn) (2023.3)\n",
            "Requirement already satisfied: tzdata>=2022.1 in /opt/conda/envs/sagemaker-distribution/lib/python3.8/site-packages (from pandas>=1.2->seaborn) (2023.3)\n",
            "Requirement already satisfied: zipp>=3.1.0 in /opt/conda/envs/sagemaker-distribution/lib/python3.8/site-packages (from importlib-resources>=3.2.0->matplotlib!=3.6.1,>=3.4->seaborn) (3.16.2)\n",
            "Requirement already satisfied: six>=1.5 in /opt/conda/envs/sagemaker-distribution/lib/python3.8/site-packages (from python-dateutil>=2.7->matplotlib!=3.6.1,>=3.4->seaborn) (1.16.0)\n",
            "Using cached seaborn-0.13.2-py3-none-any.whl (294 kB)\n",
            "Installing collected packages: seaborn\n",
            "Successfully installed seaborn-0.13.2\n"
          ]
        },
        {
          "data": {
            "image/png": "[encoded data removed]",
            "text/plain": [
              "<Figure size 800x600 with 2 Axes>"
            ]
          },
          "metadata": {},
          "output_type": "display_data"
        }
      ],
      "source": [
        "!pip install seaborn\n",
        "import seaborn as sns\n",
        "import pandas as pd\n",
        "import numpy as np\n",
        "import matplotlib.pyplot as plt\n",
        "\n",
        "# Calculate the confusion matrix\n",
        "confusion_matrix = pd.crosstab(pd.Series(actual_labels_validation, name='Actual'), pd.Series(predicted_labels_validation, name='Predicted'))\n",
        "\n",
        "# Create a heatmap\n",
        "plt.figure(figsize=(8, 6))\n",
        "sns.heatmap(confusion_matrix, annot=True, fmt=\"d\", cmap=\"Blues\")\n",
        "plt.xlabel('Predicted Labels')\n",
        "plt.ylabel('Actual Labels')\n",
        "plt.title('Confusion Matrix (Actual vs Predicted Ratings) Validation Set')\n",
        "plt.show()\n"
      ]
    },
    {
      "cell_type": "code",
      "execution_count": null,
      "id": "49b666a1-3e12-4fcf-88a6-b29d32c31fc9",
      "metadata": {
        "tags": [],
        "id": "49b666a1-3e12-4fcf-88a6-b29d32c31fc9",
        "outputId": "680293ca-a437-460b-e29b-a399e428cbe0"
      },
      "outputs": [
        {
          "name": "stdout",
          "output_type": "stream",
          "text": [
            "                                           Review Text  Actual Label  \\\n",
            "0    I expected a decent book only to be given less...             0   \n",
            "1    This was a very good book, I was glad I bought...             4   \n",
            "2    An interesting book from both a literary and h...             3   \n",
            "3    Interesting, fun, good light read.  I really e...             2   \n",
            "4    Some students spend too many hours practicing....             2   \n",
            "..                                                 ...           ...   \n",
            "995  Excellent follow up to the story, can't wait f...             4   \n",
            "996  Title: A Beautiful LiarAuthor: Leanna HarrowRe...             4   \n",
            "997  John Rain seems to be more doubtful of his rol...             4   \n",
            "998  As I type this, I've already started in on the...             3   \n",
            "999  I love how this book presents and details all ...             4   \n",
            "\n",
            "     Predicted Label  \n",
            "0                  2  \n",
            "1                  4  \n",
            "2                  3  \n",
            "3                  3  \n",
            "4                  4  \n",
            "..               ...  \n",
            "995                4  \n",
            "996                3  \n",
            "997                3  \n",
            "998                2  \n",
            "999                4  \n",
            "\n",
            "[1000 rows x 3 columns]\n"
          ]
        }
      ],
      "source": [
        "# Create DataFrame with review text, actual label, and predicted label\n",
        "df_results = pd.DataFrame({\n",
        "    'Review Text': review_texts_validation,\n",
        "    'Actual Label': actual_labels_validation,\n",
        "    'Predicted Label': predicted_labels_validation\n",
        "})\n",
        "\n",
        "# Display the DataFrame\n",
        "print(df_results)\n"
      ]
    },
    {
      "cell_type": "code",
      "execution_count": null,
      "id": "4e269e21-70db-41f1-ab78-8226b06f9592",
      "metadata": {
        "tags": [],
        "id": "4e269e21-70db-41f1-ab78-8226b06f9592",
        "outputId": "50e3c691-3645-4d42-e5c7-010458ed6773"
      },
      "outputs": [
        {
          "name": "stdout",
          "output_type": "stream",
          "text": [
            "DataFrame saved to GPT2_Final_Validation.csv\n"
          ]
        }
      ],
      "source": [
        "# Specify the path where you want to save the CSV file\n",
        "file_path = \"GPT2_Final_Validation.csv\"\n",
        "\n",
        "# Save the DataFrame to a CSV file\n",
        "df_results.to_csv(file_path, index=False)  # Set index=False to exclude row indices in the CSV\n",
        "\n",
        "print(f\"DataFrame saved to {file_path}\")\n"
      ]
    },
    {
      "cell_type": "code",
      "execution_count": null,
      "id": "7743d52c-2c0b-4b1b-8545-495de71c309e",
      "metadata": {
        "tags": [],
        "id": "7743d52c-2c0b-4b1b-8545-495de71c309e",
        "outputId": "92b4f26b-b10f-43e1-dee4-7b8629ca2097"
      },
      "outputs": [
        {
          "data": {
            "text/plain": [
              "DatasetDict({\n",
              "    train: Dataset({\n",
              "        features: ['labels', 'input_ids', 'attention_mask'],\n",
              "        num_rows: 3997\n",
              "    })\n",
              "    validation: Dataset({\n",
              "        features: ['labels', 'input_ids', 'attention_mask'],\n",
              "        num_rows: 1000\n",
              "    })\n",
              "    test: Dataset({\n",
              "        features: ['labels', 'input_ids', 'attention_mask'],\n",
              "        num_rows: 600\n",
              "    })\n",
              "})"
            ]
          },
          "execution_count": 31,
          "metadata": {},
          "output_type": "execute_result"
        }
      ],
      "source": [
        "tokenized_datasets"
      ]
    },
    {
      "cell_type": "code",
      "execution_count": null,
      "id": "fccdf5fb-a3b0-4507-9ae4-4672ce4f4e52",
      "metadata": {
        "id": "fccdf5fb-a3b0-4507-9ae4-4672ce4f4e52"
      },
      "outputs": [],
      "source": [
        "# Generate predictions for the validation dataset\n",
        "predictions_test = trainer.predict(tokenized_datasets['test'])\n",
        "\n",
        "# Extract predicted labels from the predictions\n",
        "predicted_labels_test = np.argmax(predictions_test.predictions, axis=-1)\n",
        "\n",
        "# You can now use the predicted_labels array for further analysis or evaluation\n"
      ]
    },
    {
      "cell_type": "code",
      "execution_count": null,
      "id": "9cbb9a64-afa8-43bb-89d2-75fe1cd3ca2f",
      "metadata": {
        "id": "9cbb9a64-afa8-43bb-89d2-75fe1cd3ca2f",
        "outputId": "498e262c-ba1f-47bb-ef85-f3773fad178d"
      },
      "outputs": [
        {
          "name": "stdout",
          "output_type": "stream",
          "text": [
            "Accuracy: 0.7783333333333333\n",
            "F1 Score: 0.7601564842235785\n"
          ]
        }
      ],
      "source": [
        "from sklearn.metrics import accuracy_score, f1_score\n",
        "\n",
        "# Assuming true labels for the validation dataset are stored in true_labels_validation variable\n",
        "\n",
        "# Calculate accuracy\n",
        "accuracy = accuracy_score(actual_labels_test, predicted_labels_test)\n",
        "\n",
        "# Calculate F1 score\n",
        "f1 = f1_score(actual_labels_test, predicted_labels_test, average='weighted')\n",
        "\n",
        "print(\"Accuracy:\", accuracy)\n",
        "print(\"F1 Score:\", f1)\n"
      ]
    },
    {
      "cell_type": "code",
      "execution_count": null,
      "id": "e5b6e1ab-c4d5-44af-af7f-2192a5c88c62",
      "metadata": {
        "id": "e5b6e1ab-c4d5-44af-af7f-2192a5c88c62",
        "outputId": "ac00641f-8ef4-4771-d88f-b01fb6a9a9a1"
      },
      "outputs": [
        {
          "data": {
            "image/png": "[encoded data removed]",
            "text/plain": [
              "<Figure size 800x600 with 2 Axes>"
            ]
          },
          "metadata": {},
          "output_type": "display_data"
        }
      ],
      "source": [
        "import seaborn as sns\n",
        "import pandas as pd\n",
        "import numpy as np\n",
        "import matplotlib.pyplot as plt\n",
        "\n",
        "# Calculate the confusion matrix\n",
        "confusion_matrix = pd.crosstab(pd.Series(actual_labels_test, name='Actual'), pd.Series(predicted_labels_test, name='Predicted'))\n",
        "\n",
        "# Create a heatmap\n",
        "plt.figure(figsize=(8, 6))\n",
        "sns.heatmap(confusion_matrix, annot=True, fmt=\"d\", cmap=\"Blues\")\n",
        "plt.xlabel('Predicted Labels')\n",
        "plt.ylabel('Actual Labels')\n",
        "plt.title('Confusion Matrix (Actual vs Predicted Ratings) Test Set')\n",
        "plt.show()\n"
      ]
    },
    {
      "cell_type": "code",
      "execution_count": null,
      "id": "686421fc-69b6-438a-b04b-87deafac2528",
      "metadata": {
        "id": "686421fc-69b6-438a-b04b-87deafac2528",
        "outputId": "0beab6c5-0ce4-4f00-c6be-3395c9d8654b"
      },
      "outputs": [
        {
          "name": "stdout",
          "output_type": "stream",
          "text": [
            "                                           Review Text  Actual Label  \\\n",
            "0    Never saw this coming... Omg it was better tha...             4   \n",
            "1    I loved this book. I loved it because it's wel...             4   \n",
            "2    Much of what is in this book is common sense, ...             3   \n",
            "3    Fans of the author and those who appreciate a ...             4   \n",
            "4    This is the perfect summer read. The story tak...             3   \n",
            "..                                                 ...           ...   \n",
            "595  This is only my second Cornwell novel, and I h...             4   \n",
            "596  Sharnael wrote \"Keys to Third Heaven\" after at...             4   \n",
            "597  Cristin Harber has completely captivated me wi...             3   \n",
            "598  So far, it has not helped my problems.  Thankf...             2   \n",
            "599  The thing I loved about this book was how I di...             4   \n",
            "\n",
            "     Predicted Label  \n",
            "0                  4  \n",
            "1                  4  \n",
            "2                  4  \n",
            "3                  4  \n",
            "4                  3  \n",
            "..               ...  \n",
            "595                4  \n",
            "596                4  \n",
            "597                4  \n",
            "598                2  \n",
            "599                4  \n",
            "\n",
            "[600 rows x 3 columns]\n"
          ]
        }
      ],
      "source": [
        "# Create DataFrame with review text, actual label, and predicted label\n",
        "df_results = pd.DataFrame({\n",
        "    'Review Text': reviews_texts_test,\n",
        "    'Actual Label': actual_labels_test,\n",
        "    'Predicted Label': predicted_labels_test\n",
        "})\n",
        "\n",
        "# Display the DataFrame\n",
        "print(df_results)\n"
      ]
    },
    {
      "cell_type": "code",
      "execution_count": null,
      "id": "2720f05d-bed1-4ab4-925e-720baf79a4a9",
      "metadata": {
        "id": "2720f05d-bed1-4ab4-925e-720baf79a4a9",
        "outputId": "4e0ece6a-e146-4249-9d00-3d1feea12519"
      },
      "outputs": [
        {
          "name": "stdout",
          "output_type": "stream",
          "text": [
            "DataFrame saved to GPT2_Final_Test.csv\n"
          ]
        }
      ],
      "source": [
        "# Specify the path where you want to save the CSV file\n",
        "file_path = \"GPT2_Final_Test.csv\"\n",
        "\n",
        "# Save the DataFrame to a CSV file\n",
        "df_results.to_csv(file_path, index=False)  # Set index=False to exclude row indices in the CSV\n",
        "\n",
        "print(f\"DataFrame saved to {file_path}\")\n"
      ]
    }
  ],
  "metadata": {
    "kernelspec": {
      "display_name": "sagemaker-distribution:Python",
      "language": "python",
      "name": "conda-env-sagemaker-distribution-py"
    },
    "language_info": {
      "codemirror_mode": {
        "name": "ipython",
        "version": 3
      },
      "file_extension": ".py",
      "mimetype": "text/x-python",
      "name": "python",
      "nbconvert_exporter": "python",
      "pygments_lexer": "ipython3",
      "version": "3.8.17"
    },
    "colab": {
      "provenance": []
    }
  },
  "nbformat": 4,
  "nbformat_minor": 5
}